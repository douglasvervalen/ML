{
 "cells": [
  {
   "cell_type": "code",
   "execution_count": 3,
   "id": "c490d81f",
   "metadata": {},
   "outputs": [
    {
     "name": "stdout",
     "output_type": "stream",
     "text": [
      "Downloading http://yann.lecun.com/exdb/mnist/train-images-idx3-ubyte.gz\n",
      "Downloading http://yann.lecun.com/exdb/mnist/train-images-idx3-ubyte.gz to MNIST/raw/train-images-idx3-ubyte.gz\n"
     ]
    },
    {
     "name": "stderr",
     "output_type": "stream",
     "text": [
      "100.0%\n"
     ]
    },
    {
     "name": "stdout",
     "output_type": "stream",
     "text": [
      "Extracting MNIST/raw/train-images-idx3-ubyte.gz to MNIST/raw\n",
      "\n",
      "Downloading http://yann.lecun.com/exdb/mnist/train-labels-idx1-ubyte.gz\n",
      "Downloading http://yann.lecun.com/exdb/mnist/train-labels-idx1-ubyte.gz to MNIST/raw/train-labels-idx1-ubyte.gz\n"
     ]
    },
    {
     "name": "stderr",
     "output_type": "stream",
     "text": [
      "100.0%\n"
     ]
    },
    {
     "name": "stdout",
     "output_type": "stream",
     "text": [
      "Extracting MNIST/raw/train-labels-idx1-ubyte.gz to MNIST/raw\n",
      "\n",
      "Downloading http://yann.lecun.com/exdb/mnist/t10k-images-idx3-ubyte.gz\n",
      "Downloading http://yann.lecun.com/exdb/mnist/t10k-images-idx3-ubyte.gz to MNIST/raw/t10k-images-idx3-ubyte.gz\n"
     ]
    },
    {
     "name": "stderr",
     "output_type": "stream",
     "text": [
      "100.0%\n"
     ]
    },
    {
     "name": "stdout",
     "output_type": "stream",
     "text": [
      "Extracting MNIST/raw/t10k-images-idx3-ubyte.gz to MNIST/raw\n",
      "\n",
      "Downloading http://yann.lecun.com/exdb/mnist/t10k-labels-idx1-ubyte.gz\n"
     ]
    },
    {
     "name": "stderr",
     "output_type": "stream",
     "text": [
      "100.0%"
     ]
    },
    {
     "name": "stdout",
     "output_type": "stream",
     "text": [
      "Downloading http://yann.lecun.com/exdb/mnist/t10k-labels-idx1-ubyte.gz to MNIST/raw/t10k-labels-idx1-ubyte.gz\n",
      "Extracting MNIST/raw/t10k-labels-idx1-ubyte.gz to MNIST/raw\n",
      "\n"
     ]
    },
    {
     "name": "stderr",
     "output_type": "stream",
     "text": [
      "\n"
     ]
    }
   ],
   "source": [
    "from torchvision import datasets, transforms\n",
    "from torch.utils.data import DataLoader\n",
    "\n",
    "# Download dos dados\n",
    "# transforms.ToTensor() -> Transforma imagem em matriz\n",
    "train_data = datasets.MNIST(\"\", download=True, train=True, transform=transforms.ToTensor()) \n",
    "test_data = datasets.MNIST(\"\", download=True, train=False, transform=transforms.ToTensor())"
   ]
  },
  {
   "cell_type": "code",
   "execution_count": 4,
   "id": "fcec1b6f",
   "metadata": {},
   "outputs": [],
   "source": [
    "#Carregamento dos dados\n",
    "X_train = DataLoader(train_data, batch_size=10, shuffle=True)\n",
    "X_test = DataLoader(test_data, batch_size=10, shuffle=True)"
   ]
  },
  {
   "cell_type": "code",
   "execution_count": 14,
   "id": "c7d6ccaa",
   "metadata": {},
   "outputs": [
    {
     "name": "stdout",
     "output_type": "stream",
     "text": [
      "15.0\n"
     ]
    }
   ],
   "source": [
    "class Produto():\n",
    "    def __init__(self):\n",
    "        self.nome = 'Camiseta'\n",
    "        self.preco = 30\n",
    "    def Desconto(self, x):\n",
    "        self.preco = self.preco - (self.preco * (x/100))\n",
    "        print(self.preco)\n",
    "        \n",
    "produto1 = Produto()\n",
    "produto1.Desconto(50)"
   ]
  },
  {
   "cell_type": "code",
   "execution_count": 37,
   "id": "f55542dd",
   "metadata": {},
   "outputs": [],
   "source": [
    "import torch.nn as nn\n",
    "import torch.nn.functional as F\n",
    "class Rede(nn.Module):\n",
    "    def __init__(self):\n",
    "        super().__init__()\n",
    "        self.fc1 = nn.Linear(784, 64)\n",
    "        self.fc2 = nn.Linear(64, 64)\n",
    "        self.fc3 = nn.Linear(64, 64)\n",
    "        self.fc4 = nn.Linear(64, 10)\n",
    "    \n",
    "    def forward(self, x):\n",
    "        x = F.relu(self.fc1(x))\n",
    "        x = F.relu(self.fc2(x))\n",
    "        x = F.relu(self.fc3(x))\n",
    "        x = F.relu(self.fc4(x))\n",
    "        \n",
    "        return F.log_softmax(x, dim=1)\n",
    "    \n",
    "    #[0.3, -1.4] -> [0.85, 0,15] -> [1, 0]\n",
    "    \n",
    "model = Rede()"
   ]
  },
  {
   "cell_type": "code",
   "execution_count": 42,
   "id": "776d63d6",
   "metadata": {},
   "outputs": [
    {
     "name": "stdout",
     "output_type": "stream",
     "text": [
      "tensor(0.3828, grad_fn=<NllLossBackward0>)\n",
      "tensor(0.2451, grad_fn=<NllLossBackward0>)\n",
      "tensor(0.0544, grad_fn=<NllLossBackward0>)\n"
     ]
    }
   ],
   "source": [
    "import torch.optim as op\n",
    "optimizer = op.SGD(model.parameters(), lr=0.1)\n",
    "for epoch in range(3):\n",
    "    for data in X_train:\n",
    "        X, y = data\n",
    "        Y = model(X.view(-1,784))\n",
    "        #otimizacao\n",
    "        model.zero_grad()\n",
    "        loss = F.nll_loss(Y, y)\n",
    "        loss.backward()\n",
    "        optimizer.step()\n",
    "    print(loss)"
   ]
  },
  {
   "cell_type": "code",
   "execution_count": 41,
   "id": "47f4dddc",
   "metadata": {},
   "outputs": [
    {
     "data": {
      "text/plain": [
       "Parameter containing:\n",
       "tensor([[-0.0077,  0.0101, -0.0023,  ...,  0.0295, -0.0097,  0.0232],\n",
       "        [ 0.0084,  0.0243, -0.0326,  ..., -0.0242, -0.0010, -0.0355],\n",
       "        [ 0.0148,  0.0087,  0.0183,  ..., -0.0145, -0.0080,  0.0038],\n",
       "        ...,\n",
       "        [-0.0312, -0.0063,  0.0145,  ..., -0.0292,  0.0287, -0.0356],\n",
       "        [ 0.0347,  0.0043, -0.0256,  ..., -0.0078, -0.0121, -0.0079],\n",
       "        [-0.0340,  0.0001,  0.0108,  ..., -0.0101, -0.0202, -0.0340]],\n",
       "       requires_grad=True)"
      ]
     },
     "execution_count": 41,
     "metadata": {},
     "output_type": "execute_result"
    }
   ],
   "source": [
    "# Pesos da camada fc1\n",
    "model.fc1.weight"
   ]
  },
  {
   "cell_type": "code",
   "execution_count": 48,
   "id": "78b9d19e",
   "metadata": {},
   "outputs": [
    {
     "name": "stdout",
     "output_type": "stream",
     "text": [
      "96.36\n"
     ]
    }
   ],
   "source": [
    "import torch\n",
    "correct = 0\n",
    "total = 0\n",
    "for epoch in range(3):\n",
    "    for data in X_test:\n",
    "        X, y = data\n",
    "        Y = model(X.view(-1,784))\n",
    "        for index, i in enumerate(Y):\n",
    "            if torch.argmax(i) == y[index]:\n",
    "                correct += 1\n",
    "            total += 1\n",
    "            \n",
    "print(round((correct/total)*100,3))\n",
    "        "
   ]
  },
  {
   "cell_type": "code",
   "execution_count": 57,
   "id": "f310c761",
   "metadata": {},
   "outputs": [
    {
     "name": "stdout",
     "output_type": "stream",
     "text": [
      "tensor(5)\n"
     ]
    },
    {
     "data": {
      "image/png": "[encoded data removed]",
      "text/plain": [
       "<Figure size 432x288 with 1 Axes>"
      ]
     },
     "metadata": {
      "needs_background": "light"
     },
     "output_type": "display_data"
    }
   ],
   "source": [
    "from PIL import Image\n",
    "import matplotlib.pyplot as plt\n",
    "\n",
    "img = Image.open(\"Drawing6.png\")\n",
    "image = transforms.ToTensor()(img)\n",
    "\n",
    "plt.imshow(image[0].view(28,28))\n",
    "print(torch.argmax(model(image[0].view(-1,784))[0]))"
   ]
  }
 ],
 "metadata": {
  "kernelspec": {
   "display_name": "Python 3 (ipykernel)",
   "language": "python",
   "name": "python3"
  },
  "language_info": {
   "codemirror_mode": {
    "name": "ipython",
    "version": 3
   },
   "file_extension": ".py",
   "mimetype": "text/x-python",
   "name": "python",
   "nbconvert_exporter": "python",
   "pygments_lexer": "ipython3",
   "version": "3.10.6"
  }
 },
 "nbformat": 4,
 "nbformat_minor": 5
}
